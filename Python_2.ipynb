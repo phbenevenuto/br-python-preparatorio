{
  "nbformat": 4,
  "nbformat_minor": 0,
  "metadata": {
    "colab": {
      "name": "Python 2.ipynb",
      "provenance": [],
      "collapsed_sections": [],
      "include_colab_link": true
    },
    "kernelspec": {
      "name": "python3",
      "display_name": "Python 3"
    }
  },
  "cells": [
    {
      "cell_type": "markdown",
      "metadata": {
        "id": "view-in-github",
        "colab_type": "text"
      },
      "source": [
        "<a href=\"https://colab.research.google.com/github/phbenevenuto/br-python-preparatorio/blob/master/Python_2.ipynb\" target=\"_parent\"><img src=\"https://colab.research.google.com/assets/colab-badge.svg\" alt=\"Open In Colab\"/></a>"
      ]
    },
    {
      "cell_type": "markdown",
      "metadata": {
        "id": "Si5ub8Y0pUZm",
        "colab_type": "text"
      },
      "source": [
        "<img src=\"https://i.imgur.com/JsMvGnP.pngwidth\" height=\"30\">  \n",
        "<p style=\"color: #2e6c80; text-align: center;\"><strong>Aula complementar de Python - Fazendo uma pesquisa numa acedemia\n",
        "</strong></p>"
      ]
    },
    {
      "cell_type": "markdown",
      "metadata": {
        "id": "SJcSNU0EIDkI",
        "colab_type": "text"
      },
      "source": [
        "**Tipos de dados - Booleans**"
      ]
    },
    {
      "cell_type": "code",
      "metadata": {
        "id": "iKpAMWcIHRIJ",
        "colab_type": "code",
        "colab": {
          "base_uri": "https://localhost:8080/",
          "height": 34
        },
        "outputId": "84677f05-c893-47c9-c8a1-02835a5f938b"
      },
      "source": [
        "10 < 20"
      ],
      "execution_count": null,
      "outputs": [
        {
          "output_type": "execute_result",
          "data": {
            "text/plain": [
              "True"
            ]
          },
          "metadata": {
            "tags": []
          },
          "execution_count": 2
        }
      ]
    },
    {
      "cell_type": "code",
      "metadata": {
        "id": "JKHlO_38MkUv",
        "colab_type": "code",
        "colab": {
          "base_uri": "https://localhost:8080/",
          "height": 34
        },
        "outputId": "ee60c25c-3452-4b32-a28b-d874f3b2ad96"
      },
      "source": [
        "10 == '10'"
      ],
      "execution_count": null,
      "outputs": [
        {
          "output_type": "execute_result",
          "data": {
            "text/plain": [
              "False"
            ]
          },
          "metadata": {
            "tags": []
          },
          "execution_count": 3
        }
      ]
    },
    {
      "cell_type": "markdown",
      "metadata": {
        "id": "C5qhtX4jNqtO",
        "colab_type": "text"
      },
      "source": [
        "**If, Else, Elif**\n"
      ]
    },
    {
      "cell_type": "code",
      "metadata": {
        "id": "1cZV8jIIIxi5",
        "colab_type": "code",
        "colab": {}
      },
      "source": [
        "if 10>20:\n",
        "  print ('10 > 20')"
      ],
      "execution_count": null,
      "outputs": []
    },
    {
      "cell_type": "code",
      "metadata": {
        "id": "vl8HDu9422wV",
        "colab_type": "code",
        "colab": {
          "base_uri": "https://localhost:8080/",
          "height": 34
        },
        "outputId": "e04f2edc-226b-45d0-d10f-af9ebf40ad4f"
      },
      "source": [
        "if 10>20:\n",
        "  print ('10 > 20')\n",
        "else:\n",
        "  print( '10 < 20')"
      ],
      "execution_count": null,
      "outputs": [
        {
          "output_type": "stream",
          "text": [
            "10 < 20\n"
          ],
          "name": "stdout"
        }
      ]
    },
    {
      "cell_type": "markdown",
      "metadata": {
        "id": "Jiosiu_yIz0M",
        "colab_type": "text"
      },
      "source": [
        "**Exercício 1:** crie uma função que retorne uma mensagem que informa se os dois argumentos são iguais ou diferentes.\n",
        "\n",
        "\n"
      ]
    },
    {
      "cell_type": "code",
      "metadata": {
        "id": "wH5C7xThJ8tx",
        "colab_type": "code",
        "colab": {}
      },
      "source": [
        "def diferente_igual(a,b):\n",
        "  if a == b:\n",
        "    return \"Os elementos são iguais\"\n",
        "  else:\n",
        "    return \"Os elementos são diferentes\""
      ],
      "execution_count": null,
      "outputs": []
    },
    {
      "cell_type": "code",
      "metadata": {
        "id": "OrENh2GcZJka",
        "colab_type": "code",
        "colab": {
          "base_uri": "https://localhost:8080/",
          "height": 35
        },
        "outputId": "8114ec24-1540-4e9a-f004-14fd695e9ec7"
      },
      "source": [
        "diferente_igual(5,5)"
      ],
      "execution_count": null,
      "outputs": [
        {
          "output_type": "execute_result",
          "data": {
            "application/vnd.google.colaboratory.intrinsic+json": {
              "type": "string"
            },
            "text/plain": [
              "'Os elementos são iguais'"
            ]
          },
          "metadata": {
            "tags": []
          },
          "execution_count": 8
        }
      ]
    },
    {
      "cell_type": "markdown",
      "metadata": {
        "id": "R2OtP3KGKTLQ",
        "colab_type": "text"
      },
      "source": [
        "Mais de uma condição (usar parentes):"
      ]
    },
    {
      "cell_type": "code",
      "metadata": {
        "id": "9cLcI9gdKR9q",
        "colab_type": "code",
        "colab": {
          "base_uri": "https://localhost:8080/",
          "height": 34
        },
        "outputId": "ba525168-7fa0-4a98-d8b4-0687df929190"
      },
      "source": [
        "if (10>20) and (type(10)==int):\n",
        "  print ('Certo')\n",
        "else:\n",
        "  print ('Errado')"
      ],
      "execution_count": null,
      "outputs": [
        {
          "output_type": "stream",
          "text": [
            "Errado\n"
          ],
          "name": "stdout"
        }
      ]
    },
    {
      "cell_type": "markdown",
      "metadata": {
        "id": "xiRgSER1ZO-H",
        "colab_type": "text"
      },
      "source": [
        "Uma ou outra condição:\n"
      ]
    },
    {
      "cell_type": "code",
      "metadata": {
        "id": "zAnJ1hT5ZQLB",
        "colab_type": "code",
        "colab": {
          "base_uri": "https://localhost:8080/",
          "height": 34
        },
        "outputId": "7c988365-7452-470e-8692-13bc33e1304e"
      },
      "source": [
        "if (10>20) or (type(10)==int):\n",
        "  print ('Certo')\n",
        "else:\n",
        "  print ('Errado')"
      ],
      "execution_count": null,
      "outputs": [
        {
          "output_type": "stream",
          "text": [
            "Certo\n"
          ],
          "name": "stdout"
        }
      ]
    },
    {
      "cell_type": "markdown",
      "metadata": {
        "id": "PhIEZVitGjkJ",
        "colab_type": "text"
      },
      "source": [
        "Supondo que você seja o dono de uma academia de ginástica e queira fazer uma pesquisa com seus clientes para poder indicar treinamentos mais adequeados, você precisaria coletar informações, organizá-las e criar uma saída que envie mensagens ou e-mails para os alunos com a informação já processada."
      ]
    },
    {
      "cell_type": "markdown",
      "metadata": {
        "id": "V2iGqkTyzI7q",
        "colab_type": "text"
      },
      "source": [
        "**Listas**"
      ]
    },
    {
      "cell_type": "code",
      "metadata": {
        "id": "4-VoEJIop8Ea",
        "colab_type": "code",
        "colab": {}
      },
      "source": [
        "lista_exemplo = [4,5,6,5,3,3.45,4.56,\"Bola\",\"Casa\"]"
      ],
      "execution_count": null,
      "outputs": []
    },
    {
      "cell_type": "code",
      "metadata": {
        "id": "iZK346jz5eIk",
        "colab_type": "code",
        "colab": {
          "base_uri": "https://localhost:8080/",
          "height": 34
        },
        "outputId": "6796ab2b-9cd0-4b67-a675-c3df304c3b6d"
      },
      "source": [
        "type(lista_exemplo)"
      ],
      "execution_count": null,
      "outputs": [
        {
          "output_type": "execute_result",
          "data": {
            "text/plain": [
              "list"
            ]
          },
          "metadata": {
            "tags": []
          },
          "execution_count": 12
        }
      ]
    },
    {
      "cell_type": "markdown",
      "metadata": {
        "id": "Dqn-iPU4pzzQ",
        "colab_type": "text"
      },
      "source": [
        "**Chamando itens em uma lista**"
      ]
    },
    {
      "cell_type": "code",
      "metadata": {
        "id": "qOgzYVMK1h-l",
        "colab_type": "code",
        "colab": {
          "base_uri": "https://localhost:8080/",
          "height": 34
        },
        "outputId": "5c7452b5-f19a-43c8-b120-f5555511adaf"
      },
      "source": [
        "lista_exemplo[2]"
      ],
      "execution_count": null,
      "outputs": [
        {
          "output_type": "execute_result",
          "data": {
            "text/plain": [
              "6"
            ]
          },
          "metadata": {
            "tags": []
          },
          "execution_count": 13
        }
      ]
    },
    {
      "cell_type": "markdown",
      "metadata": {
        "id": "Q1nJQ-DDKyyj",
        "colab_type": "text"
      },
      "source": [
        "**Indexando pelo negativo**"
      ]
    },
    {
      "cell_type": "code",
      "metadata": {
        "id": "OLpOVPsqruj0",
        "colab_type": "code",
        "colab": {
          "base_uri": "https://localhost:8080/",
          "height": 35
        },
        "outputId": "b22acc91-5101-43cf-d3a4-4a5b7a5d44d1"
      },
      "source": [
        "lista_exemplo[-2]"
      ],
      "execution_count": null,
      "outputs": [
        {
          "output_type": "execute_result",
          "data": {
            "application/vnd.google.colaboratory.intrinsic+json": {
              "type": "string"
            },
            "text/plain": [
              "'Bola'"
            ]
          },
          "metadata": {
            "tags": []
          },
          "execution_count": 15
        }
      ]
    },
    {
      "cell_type": "markdown",
      "metadata": {
        "colab_type": "text",
        "id": "CLoYbZV6weTy"
      },
      "source": [
        "**Modificando um item**"
      ]
    },
    {
      "cell_type": "code",
      "metadata": {
        "id": "b9TlB2y91TnB",
        "colab_type": "code",
        "colab": {
          "base_uri": "https://localhost:8080/",
          "height": 34
        },
        "outputId": "01dbd903-fb69-45bc-f956-a4f6e2e874ba"
      },
      "source": [
        "lista_exemplo[2]='seis'\n",
        "lista_exemplo\n"
      ],
      "execution_count": null,
      "outputs": [
        {
          "output_type": "execute_result",
          "data": {
            "text/plain": [
              "[4, 5, 'seis', 5, 3, 3.45, 4.56, 'Bola', 'Casa']"
            ]
          },
          "metadata": {
            "tags": []
          },
          "execution_count": 17
        }
      ]
    },
    {
      "cell_type": "markdown",
      "metadata": {
        "id": "ogTkO2iLLDV-",
        "colab_type": "text"
      },
      "source": [
        "**append()**"
      ]
    },
    {
      "cell_type": "code",
      "metadata": {
        "id": "C_TMe9YvLCCg",
        "colab_type": "code",
        "colab": {
          "base_uri": "https://localhost:8080/",
          "height": 34
        },
        "outputId": "543429c7-58df-4524-c5b6-d082324ef494"
      },
      "source": [
        "lista_exemplo"
      ],
      "execution_count": null,
      "outputs": [
        {
          "output_type": "execute_result",
          "data": {
            "text/plain": [
              "[4, 5, 'seis', 5, 3, 3.45, 4.56, 'Bola', 'Casa', 'Céu']"
            ]
          },
          "metadata": {
            "tags": []
          },
          "execution_count": 20
        }
      ]
    },
    {
      "cell_type": "code",
      "metadata": {
        "id": "2jYa225n6uTZ",
        "colab_type": "code",
        "colab": {}
      },
      "source": [
        "lista_exemplo.append(\"Céu\")"
      ],
      "execution_count": null,
      "outputs": []
    },
    {
      "cell_type": "markdown",
      "metadata": {
        "id": "-Vzti6CtsWzJ",
        "colab_type": "text"
      },
      "source": [
        "**Uma lista dentro de uma lista? -** ***Nested List***"
      ]
    },
    {
      "cell_type": "code",
      "metadata": {
        "id": "0FEE99Nash1B",
        "colab_type": "code",
        "colab": {}
      },
      "source": [
        "lista_exemplo.append(['um','dois'])"
      ],
      "execution_count": null,
      "outputs": []
    },
    {
      "cell_type": "code",
      "metadata": {
        "id": "zE2PLMnpuF-O",
        "colab_type": "code",
        "colab": {
          "base_uri": "https://localhost:8080/",
          "height": 34
        },
        "outputId": "92c91e87-6b6b-4700-ffc2-d5e3b2f5b916"
      },
      "source": [
        "lista_exemplo"
      ],
      "execution_count": null,
      "outputs": [
        {
          "output_type": "execute_result",
          "data": {
            "text/plain": [
              "[5, 'seis', 5, 3, 3.45, 4.56, 'Bola', 'Casa', 'Céu', ['um', 'dois']]"
            ]
          },
          "metadata": {
            "tags": []
          },
          "execution_count": 27
        }
      ]
    },
    {
      "cell_type": "code",
      "metadata": {
        "id": "Me942Vxp8cq-",
        "colab_type": "code",
        "colab": {
          "base_uri": "https://localhost:8080/",
          "height": 34
        },
        "outputId": "d5c86d7e-65d5-442f-93a3-ee666e238b42"
      },
      "source": [
        "lista_exemplo.pop(0)"
      ],
      "execution_count": null,
      "outputs": [
        {
          "output_type": "execute_result",
          "data": {
            "text/plain": [
              "4"
            ]
          },
          "metadata": {
            "tags": []
          },
          "execution_count": 26
        }
      ]
    },
    {
      "cell_type": "markdown",
      "metadata": {
        "id": "foMXSj9iLMZB",
        "colab_type": "text"
      },
      "source": [
        "**Encontrando item na lista dentro da lista**"
      ]
    },
    {
      "cell_type": "code",
      "metadata": {
        "id": "e9ohEzc82qvj",
        "colab_type": "code",
        "colab": {
          "base_uri": "https://localhost:8080/",
          "height": 35
        },
        "outputId": "033040ac-7355-42f0-b2c9-4bcf4022e922"
      },
      "source": [
        "lista_exemplo[10][1]"
      ],
      "execution_count": null,
      "outputs": [
        {
          "output_type": "execute_result",
          "data": {
            "application/vnd.google.colaboratory.intrinsic+json": {
              "type": "string"
            },
            "text/plain": [
              "'dois'"
            ]
          },
          "metadata": {
            "tags": []
          },
          "execution_count": 25
        }
      ]
    },
    {
      "cell_type": "markdown",
      "metadata": {
        "id": "EuDOZEWePVUD",
        "colab_type": "text"
      },
      "source": [
        "**Exercício 2 - Da lista dada:**\n",
        "- Substitua o segundo item por \"Casa\"\n",
        "- adicione o item 45.9 ao fim da lista"
      ]
    },
    {
      "cell_type": "code",
      "metadata": {
        "id": "R3_YHRQAPq2h",
        "colab_type": "code",
        "colab": {}
      },
      "source": [
        "lista_exemplo[1]='Casa'\n",
        "lista_exemplo.append(45.9)"
      ],
      "execution_count": null,
      "outputs": []
    },
    {
      "cell_type": "code",
      "metadata": {
        "id": "tqKACZRt-BjP",
        "colab_type": "code",
        "colab": {
          "base_uri": "https://localhost:8080/",
          "height": 34
        },
        "outputId": "7a35e8f9-59cf-471a-8bea-dc2d612e4949"
      },
      "source": [
        "lista_exemplo"
      ],
      "execution_count": null,
      "outputs": [
        {
          "output_type": "execute_result",
          "data": {
            "text/plain": [
              "[5, 'Casa', 5, 3, 3.45, 4.56, 'Bola', 'Casa', 'Céu', ['um', 'dois'], 45.9]"
            ]
          },
          "metadata": {
            "tags": []
          },
          "execution_count": 30
        }
      ]
    },
    {
      "cell_type": "markdown",
      "metadata": {
        "id": "ZXG7qQ0wIGkH",
        "colab_type": "text"
      },
      "source": [
        "**ITERANDO** \\\n",
        "**Loop** ***For***"
      ]
    },
    {
      "cell_type": "code",
      "metadata": {
        "id": "DEF15-97Nq-y",
        "colab_type": "code",
        "colab": {
          "base_uri": "https://localhost:8080/",
          "height": 204
        },
        "outputId": "80fff5af-0e94-4a7e-d5f2-8986dd320225"
      },
      "source": [
        "for coisa in lista_exemplo:\n",
        "  print (coisa)"
      ],
      "execution_count": null,
      "outputs": [
        {
          "output_type": "stream",
          "text": [
            "5\n",
            "Casa\n",
            "5\n",
            "3\n",
            "3.45\n",
            "4.56\n",
            "Bola\n",
            "Casa\n",
            "Céu\n",
            "['um', 'dois']\n",
            "45.9\n"
          ],
          "name": "stdout"
        }
      ]
    },
    {
      "cell_type": "markdown",
      "metadata": {
        "id": "SIRuvotgNvxx",
        "colab_type": "text"
      },
      "source": [
        "**Exercício 3: Loop com format** \\\n",
        "Faça um loop sobre a lista que você criou utilizando a função format para dizer que cada um dos itens está na lista: \\\n",
        "Ex: 4 está na lista..."
      ]
    },
    {
      "cell_type": "code",
      "metadata": {
        "id": "Lg9zuSlFqtsy",
        "colab_type": "code",
        "colab": {
          "base_uri": "https://localhost:8080/",
          "height": 204
        },
        "outputId": "3cbe17b5-f829-450b-c0ab-ea33e05d7f3d"
      },
      "source": [
        "for item in lista_exemplo:\n",
        "  print (f'{item} está na lista')"
      ],
      "execution_count": null,
      "outputs": [
        {
          "output_type": "stream",
          "text": [
            "5 está na lista\n",
            "Casa está na lista\n",
            "5 está na lista\n",
            "3 está na lista\n",
            "3.45 está na lista\n",
            "4.56 está na lista\n",
            "Bola está na lista\n",
            "Casa está na lista\n",
            "Céu está na lista\n",
            "['um', 'dois'] está na lista\n",
            "45.9 está na lista\n"
          ],
          "name": "stdout"
        }
      ]
    },
    {
      "cell_type": "markdown",
      "metadata": {
        "id": "gMRqgEIQJGTg",
        "colab_type": "text"
      },
      "source": [
        "**Exemplo prático:** \\\n",
        "Coletando os dados da academia"
      ]
    },
    {
      "cell_type": "code",
      "metadata": {
        "id": "B-xhOqtoIxE3",
        "colab_type": "code",
        "colab": {}
      },
      "source": [
        ""
      ],
      "execution_count": null,
      "outputs": []
    },
    {
      "cell_type": "code",
      "metadata": {
        "id": "95JJKn4qpC4j",
        "colab_type": "code",
        "colab": {}
      },
      "source": [
        "minha_lista = [['Ulrich', 'M', 80, 1.92],['Claudia','F',62,1.56],\n",
        "               ['Mikkel','M',67,1.56],['Jonas','M',52,1.56],\n",
        "               ['Charlotte','F',52,1.56],['Martha','F',76,1.98]]"
      ],
      "execution_count": null,
      "outputs": []
    },
    {
      "cell_type": "code",
      "metadata": {
        "id": "ywqxhomFsXFD",
        "colab_type": "code",
        "colab": {
          "base_uri": "https://localhost:8080/",
          "height": 34
        },
        "outputId": "f4173d28-d8da-4095-e895-7648aa84fb2a"
      },
      "source": [
        "minha_lista[1][3]"
      ],
      "execution_count": null,
      "outputs": [
        {
          "output_type": "execute_result",
          "data": {
            "text/plain": [
              "1.56"
            ]
          },
          "metadata": {
            "tags": []
          },
          "execution_count": 35
        }
      ]
    },
    {
      "cell_type": "markdown",
      "metadata": {
        "id": "peY1aiw0Oxd7",
        "colab_type": "text"
      },
      "source": [
        "**Iterando sobre nossa lista**"
      ]
    },
    {
      "cell_type": "code",
      "metadata": {
        "id": "rHZNhA7mOwlc",
        "colab_type": "code",
        "colab": {
          "base_uri": "https://localhost:8080/",
          "height": 119
        },
        "outputId": "1823d800-7aa2-4dd0-bc4f-25af7a509128"
      },
      "source": [
        "for i in minha_lista:\n",
        "  print (i[0],i[2],i[3])\n"
      ],
      "execution_count": null,
      "outputs": [
        {
          "output_type": "stream",
          "text": [
            "Ulrich 80 1.92\n",
            "Claudia 62 1.56\n",
            "Mikkel 67 1.56\n",
            "Jonas 52 1.56\n",
            "Charlotte 52 1.56\n",
            "Martha 76 1.98\n"
          ],
          "name": "stdout"
        }
      ]
    },
    {
      "cell_type": "markdown",
      "metadata": {
        "id": "JjjqcoPyJNE6",
        "colab_type": "text"
      },
      "source": [
        "**Operações dentro das listas**"
      ]
    },
    {
      "cell_type": "code",
      "metadata": {
        "id": "nSjNdFJc-UvQ",
        "colab_type": "code",
        "colab": {}
      },
      "source": [
        "#imc = peso/altura**2\n",
        "for i in minha_lista:\n",
        "  imc = round(i[2]/i[3]**2,2)\n",
        "  i.append(imc)"
      ],
      "execution_count": null,
      "outputs": []
    },
    {
      "cell_type": "code",
      "metadata": {
        "id": "Axxwlhib-7aS",
        "colab_type": "code",
        "colab": {
          "base_uri": "https://localhost:8080/",
          "height": 119
        },
        "outputId": "41fcf12f-7108-458d-cfd6-4d2a90de9dc6"
      },
      "source": [
        "minha_lista"
      ],
      "execution_count": null,
      "outputs": [
        {
          "output_type": "execute_result",
          "data": {
            "text/plain": [
              "[['Ulrich', 'M', 80, 1.92, 21.7],\n",
              " ['Claudia', 'F', 62, 1.56, 25.48],\n",
              " ['Mikkel', 'M', 67, 1.56, 27.53],\n",
              " ['Jonas', 'M', 52, 1.56, 21.37],\n",
              " ['Charlotte', 'F', 52, 1.56, 21.37],\n",
              " ['Martha', 'F', 76, 1.98, 19.39]]"
            ]
          },
          "metadata": {
            "tags": []
          },
          "execution_count": 38
        }
      ]
    },
    {
      "cell_type": "markdown",
      "metadata": {
        "id": "eHm0Bvsp3oT9",
        "colab_type": "text"
      },
      "source": [
        "**E se eu quiser saber a altura da Charlotte?** \n",
        "\n"
      ]
    },
    {
      "cell_type": "code",
      "metadata": {
        "id": "JOlX3KLL3mvI",
        "colab_type": "code",
        "colab": {}
      },
      "source": [
        ""
      ],
      "execution_count": null,
      "outputs": []
    },
    {
      "cell_type": "markdown",
      "metadata": {
        "id": "UW9uZONnyuPB",
        "colab_type": "text"
      },
      "source": [
        "<img src=\"https://i0.wp.com/reconstruindohistorias.com/wp-content/uploads/m%C3%A3e-assustada.jpg?ssl=1\" width=\"170\"/>"
      ]
    },
    {
      "cell_type": "markdown",
      "metadata": {
        "id": "jym_u5UGKBtv",
        "colab_type": "text"
      },
      "source": [
        "**Dicionários**"
      ]
    },
    {
      "cell_type": "code",
      "metadata": {
        "id": "Ygu6bBvKKAYA",
        "colab_type": "code",
        "colab": {}
      },
      "source": [
        "dicionario = {'peso':70,'altura':1.80}"
      ],
      "execution_count": null,
      "outputs": []
    },
    {
      "cell_type": "code",
      "metadata": {
        "id": "OCiUcaClKeQi",
        "colab_type": "code",
        "colab": {
          "base_uri": "https://localhost:8080/",
          "height": 34
        },
        "outputId": "3a97530a-7a8e-4013-972d-2749d00b3a57"
      },
      "source": [
        "dicionario['peso']"
      ],
      "execution_count": null,
      "outputs": [
        {
          "output_type": "execute_result",
          "data": {
            "text/plain": [
              "70"
            ]
          },
          "metadata": {
            "tags": []
          },
          "execution_count": 40
        }
      ]
    },
    {
      "cell_type": "markdown",
      "metadata": {
        "colab_type": "text",
        "id": "2UkfwOo5lV9z"
      },
      "source": [
        "**Dicionários dentro de dicionários**"
      ]
    },
    {
      "cell_type": "code",
      "metadata": {
        "id": "kbdKZi6_KiNK",
        "colab_type": "code",
        "colab": {}
      },
      "source": [
        "dicionario = {'vinicius':{'peso':89,'atura':1.88},'Ulrich':{'peso':90,'altura':2.00},'Martha':{'peso':60}}"
      ],
      "execution_count": null,
      "outputs": []
    },
    {
      "cell_type": "code",
      "metadata": {
        "id": "3c9tmUtbLEe9",
        "colab_type": "code",
        "colab": {
          "base_uri": "https://localhost:8080/",
          "height": 34
        },
        "outputId": "d7b67eac-6390-43f8-cdcd-80c4eee2942d"
      },
      "source": [
        "dicionario['Ulrich']['peso']"
      ],
      "execution_count": null,
      "outputs": [
        {
          "output_type": "execute_result",
          "data": {
            "text/plain": [
              "90"
            ]
          },
          "metadata": {
            "tags": []
          },
          "execution_count": 45
        }
      ]
    },
    {
      "cell_type": "markdown",
      "metadata": {
        "colab_type": "text",
        "id": "wXDtwLtWlbuM"
      },
      "source": [
        "**Adicionando itens a um dicionário**"
      ]
    },
    {
      "cell_type": "code",
      "metadata": {
        "id": "u5n7BlSMLLB9",
        "colab_type": "code",
        "colab": {}
      },
      "source": [
        "dicionario['vinicius']['email']='vinicius@vinicius.com'"
      ],
      "execution_count": null,
      "outputs": []
    },
    {
      "cell_type": "code",
      "metadata": {
        "id": "y3nSk3DODGgz",
        "colab_type": "code",
        "colab": {
          "base_uri": "https://localhost:8080/",
          "height": 68
        },
        "outputId": "2b56568b-68cb-4a20-fb36-6a8e8e5da457"
      },
      "source": [
        "dicionario"
      ],
      "execution_count": null,
      "outputs": [
        {
          "output_type": "execute_result",
          "data": {
            "text/plain": [
              "{'Martha': {'peso': 60},\n",
              " 'Ulrich': {'altura': 2.0, 'peso': 90},\n",
              " 'vinicius': {'atura': 1.88, 'email': 'vinicius@vinicius.com', 'peso': 89}}"
            ]
          },
          "metadata": {
            "tags": []
          },
          "execution_count": 49
        }
      ]
    },
    {
      "cell_type": "code",
      "metadata": {
        "id": "cVWkFXSMF9cZ",
        "colab_type": "code",
        "colab": {}
      },
      "source": [
        ""
      ],
      "execution_count": null,
      "outputs": []
    },
    {
      "cell_type": "code",
      "metadata": {
        "id": "4944KjzWk1CY",
        "colab_type": "code",
        "colab": {}
      },
      "source": [
        ""
      ],
      "execution_count": null,
      "outputs": []
    },
    {
      "cell_type": "markdown",
      "metadata": {
        "id": "mll3_4A-KRZC",
        "colab_type": "text"
      },
      "source": [
        "**Exercício 4:** \\\n",
        "Adicione mais um membro ao dicionário com peso e altura e atualize o dicionário com a altura da Martha"
      ]
    },
    {
      "cell_type": "code",
      "metadata": {
        "id": "ejGHJdqjK5kF",
        "colab_type": "code",
        "colab": {}
      },
      "source": [
        "dicionario['Martha']['altura']=1.65"
      ],
      "execution_count": null,
      "outputs": []
    },
    {
      "cell_type": "code",
      "metadata": {
        "id": "aj5zoNolLW0i",
        "colab_type": "code",
        "colab": {
          "base_uri": "https://localhost:8080/",
          "height": 68
        },
        "outputId": "b54b142a-b0eb-4150-dac3-806d0f3483e7"
      },
      "source": [
        "dicionario"
      ],
      "execution_count": null,
      "outputs": [
        {
          "output_type": "execute_result",
          "data": {
            "text/plain": [
              "{'Martha': {'altura': 1.65, 'peso': 60},\n",
              " 'Ulrich': {'altura': 2.0, 'peso': 90},\n",
              " 'vinicius': {'atura': 1.88, 'email': 'vinicius@vinicius.com', 'peso': 89}}"
            ]
          },
          "metadata": {
            "tags": []
          },
          "execution_count": 51
        }
      ]
    },
    {
      "cell_type": "code",
      "metadata": {
        "id": "1kbVbLdfMZP9",
        "colab_type": "code",
        "colab": {}
      },
      "source": [
        ""
      ],
      "execution_count": null,
      "outputs": []
    },
    {
      "cell_type": "markdown",
      "metadata": {
        "colab_type": "text",
        "id": "6sL0OQRPllF9"
      },
      "source": [
        "**O Grande Loop** \\\n",
        "Da lista ao dicionário"
      ]
    },
    {
      "cell_type": "code",
      "metadata": {
        "id": "7qi38zcWGcRF",
        "colab_type": "code",
        "colab": {
          "base_uri": "https://localhost:8080/",
          "height": 119
        },
        "outputId": "3db0b4df-ba0b-4d07-fb09-a2a9cacc7e13"
      },
      "source": [
        "minha_lista\n",
        "\n"
      ],
      "execution_count": null,
      "outputs": [
        {
          "output_type": "execute_result",
          "data": {
            "text/plain": [
              "[['Ulrich', 'M', 80, 1.92, 21.7],\n",
              " ['Claudia', 'F', 62, 1.56, 25.48],\n",
              " ['Mikkel', 'M', 67, 1.56, 27.53],\n",
              " ['Jonas', 'M', 52, 1.56, 21.37],\n",
              " ['Charlotte', 'F', 52, 1.56, 21.37],\n",
              " ['Martha', 'F', 76, 1.98, 19.39]]"
            ]
          },
          "metadata": {
            "tags": []
          },
          "execution_count": 52
        }
      ]
    },
    {
      "cell_type": "code",
      "metadata": {
        "id": "eqUOXmS6GziW",
        "colab_type": "code",
        "colab": {}
      },
      "source": [
        "academia = {}\n",
        "for i in minha_lista:\n",
        "  academia[i[0]]= {}\n",
        "  academia[i[0]]['sexo']=i[1]\n",
        "  academia[i[0]]['peso']=i[2]\n",
        "  academia[i[0]]['altura']=i[3]\n",
        "  academia[i[0]]['imc']=i[4]"
      ],
      "execution_count": null,
      "outputs": []
    },
    {
      "cell_type": "code",
      "metadata": {
        "id": "id8_k__xFaPj",
        "colab_type": "code",
        "colab": {
          "base_uri": "https://localhost:8080/",
          "height": 119
        },
        "outputId": "8d6808b5-c7f3-4004-c0ac-65c899651de9"
      },
      "source": [
        "academia"
      ],
      "execution_count": null,
      "outputs": [
        {
          "output_type": "execute_result",
          "data": {
            "text/plain": [
              "{'Charlotte': {'altura': 1.56, 'imc': 21.37, 'peso': 52, 'sexo': 'F'},\n",
              " 'Claudia': {'altura': 1.56, 'imc': 25.48, 'peso': 62, 'sexo': 'F'},\n",
              " 'Jonas': {'altura': 1.56, 'imc': 21.37, 'peso': 52, 'sexo': 'M'},\n",
              " 'Martha': {'altura': 1.98, 'imc': 19.39, 'peso': 76, 'sexo': 'F'},\n",
              " 'Mikkel': {'altura': 1.56, 'imc': 27.53, 'peso': 67, 'sexo': 'M'},\n",
              " 'Ulrich': {'altura': 1.92, 'imc': 21.7, 'peso': 80, 'sexo': 'M'}}"
            ]
          },
          "metadata": {
            "tags": []
          },
          "execution_count": 56
        }
      ]
    },
    {
      "cell_type": "code",
      "metadata": {
        "id": "nscg_ZpMGMB9",
        "colab_type": "code",
        "colab": {
          "base_uri": "https://localhost:8080/",
          "height": 34
        },
        "outputId": "ceb6c5a6-5d64-414a-e9d9-5328bec24d72"
      },
      "source": [
        "academia['Jonas']['imc']"
      ],
      "execution_count": null,
      "outputs": [
        {
          "output_type": "execute_result",
          "data": {
            "text/plain": [
              "21.37"
            ]
          },
          "metadata": {
            "tags": []
          },
          "execution_count": 58
        }
      ]
    },
    {
      "cell_type": "markdown",
      "metadata": {
        "id": "5ISzRuZq9Qm-",
        "colab_type": "text"
      },
      "source": [
        "**Loop + Condicionais**"
      ]
    },
    {
      "cell_type": "code",
      "metadata": {
        "id": "wa1h7AVfGr1I",
        "colab_type": "code",
        "colab": {}
      },
      "source": [
        "lista = [2,3,4,5,6.7,7.8]"
      ],
      "execution_count": null,
      "outputs": []
    },
    {
      "cell_type": "code",
      "metadata": {
        "id": "sLPdwYs1rK8g",
        "colab_type": "code",
        "colab": {
          "base_uri": "https://localhost:8080/",
          "height": 119
        },
        "outputId": "aed3f303-e39f-4de1-e684-5366104c7f5b"
      },
      "source": [
        "for i in lista:\n",
        "  if type(i)==int:\n",
        "    print (i,'é integer')\n",
        "  elif type(i)==float:\n",
        "    print(i,'é float')\n",
        "  else:\n",
        "    pass"
      ],
      "execution_count": null,
      "outputs": [
        {
          "output_type": "stream",
          "text": [
            "2 é integer\n",
            "3 é integer\n",
            "4 é integer\n",
            "5 é integer\n",
            "6.7 é float\n",
            "7.8 é float\n"
          ],
          "name": "stdout"
        }
      ]
    },
    {
      "cell_type": "markdown",
      "metadata": {
        "colab_type": "text",
        "id": "t2t_ZKNOxm7a"
      },
      "source": [
        "**Vendo as chaves do dicionário**"
      ]
    },
    {
      "cell_type": "code",
      "metadata": {
        "id": "e3AQs3SsuSfS",
        "colab_type": "code",
        "colab": {
          "base_uri": "https://localhost:8080/",
          "height": 34
        },
        "outputId": "e101512f-1a94-4bf7-e6ed-61a20c4ede25"
      },
      "source": [
        "academia.keys()"
      ],
      "execution_count": null,
      "outputs": [
        {
          "output_type": "execute_result",
          "data": {
            "text/plain": [
              "dict_keys(['Ulrich', 'Claudia', 'Mikkel', 'Jonas', 'Charlotte', 'Martha'])"
            ]
          },
          "metadata": {
            "tags": []
          },
          "execution_count": 64
        }
      ]
    },
    {
      "cell_type": "markdown",
      "metadata": {
        "id": "6bRRXs1rnTRX",
        "colab_type": "text"
      },
      "source": [
        "**Criando a mensagem padrão**"
      ]
    },
    {
      "cell_type": "code",
      "metadata": {
        "id": "VNbNU4o-mc9R",
        "colab_type": "code",
        "colab": {
          "base_uri": "https://localhost:8080/",
          "height": 119
        },
        "outputId": "d93b4e82-a62f-4f1f-e184-d4ed3168b1e9"
      },
      "source": [
        "for i in academia.keys():\n",
        "  if academia[i]['sexo']=='M':\n",
        "    print(f'Olá {i}, gostaríamos de informar que seu IMC é de {academia[i][\"imc\"]}! Esteja preparado para os novos treinos!')\n",
        "  else:\n",
        "    print(f'Olá {i}, gostaríamos de informar que seu IMC é de {academia[i][\"imc\"]}! Esteja preparada para os novos treinos!')\n"
      ],
      "execution_count": null,
      "outputs": [
        {
          "output_type": "stream",
          "text": [
            "Olá Ulrich, gostaríamos de informar que seu IMC é de 21.7! Esteja preparado para os novos treinos!\n",
            "Olá Claudia, gostaríamos de informar que seu IMC é de 25.48! Esteja preparada para os novos treinos!\n",
            "Olá Mikkel, gostaríamos de informar que seu IMC é de 27.53! Esteja preparado para os novos treinos!\n",
            "Olá Jonas, gostaríamos de informar que seu IMC é de 21.37! Esteja preparado para os novos treinos!\n",
            "Olá Charlotte, gostaríamos de informar que seu IMC é de 21.37! Esteja preparada para os novos treinos!\n",
            "Olá Martha, gostaríamos de informar que seu IMC é de 19.39! Esteja preparada para os novos treinos!\n"
          ],
          "name": "stdout"
        }
      ]
    },
    {
      "cell_type": "markdown",
      "metadata": {
        "id": "iO3doKwea4Yn",
        "colab_type": "text"
      },
      "source": [
        "**Exercício 5:**\n",
        "Cire uma mensagem padrão que agora que varie de acordo com os pronomes (feminino e masculino) e sobre o IMC (abaixo ou acima de 25). \\\n",
        "\n",
        "Ex:\\\n",
        "Olá Claudia. Gostaríamos de informar que seu IMC é 25.3! Esteja preparad**a** para novos treinos!\\\n",
        "Olá João. Gostaríamos de informar que seu IMC é 23! Seus treinos continuarão os mesmos!\n"
      ]
    },
    {
      "cell_type": "code",
      "metadata": {
        "id": "gma3ft8JnZQ3",
        "colab_type": "code",
        "colab": {}
      },
      "source": [
        "\n"
      ],
      "execution_count": null,
      "outputs": []
    },
    {
      "cell_type": "markdown",
      "metadata": {
        "id": "WV2Y-d9S99x_",
        "colab_type": "text"
      },
      "source": [
        "**Exercício**"
      ]
    },
    {
      "cell_type": "markdown",
      "metadata": {
        "id": "AZsuEB59-I8j",
        "colab_type": "text"
      },
      "source": [
        "Abaixo temos uma lista de alunos de uma escola de música. Os elementos da lista estão na seguinte ordem: Nome, Instrumento, Nome do professor e dia da aula.\n",
        "Por uma motivo de força maior, todas as aulas da semana seguinte à que você está terão que ser canceladas. Sua tarefa consistirá em criar uma mensagem padronizada automaticamente que avise ao aluno que ele(a) não terá aula na próxima semana, como no exemplo: \"Olá Paulo, sua aula de bateria da próxima quarta-feira com o professor Thiago terá de ser cancelada por motivo de força maior. Lamentamos o ocorrido e entraremos em contato em breve.\""
      ]
    },
    {
      "cell_type": "code",
      "metadata": {
        "id": "HS2g4AU3-Hwr",
        "colab_type": "code",
        "colab": {}
      },
      "source": [
        "lista_de_alunos = [['João','bateria','Paulo','quarta-feira'],['Maria','guitarra','Rubens','quinta-feira'],\n",
        "                   ['Carla','sanfona','Roger','segunda-feira'],['Raul','contrabaixo','Paula','terça-feira'],\n",
        "                   ['Carlos','bateira','Paulo','quarta-feira'],['Pedro','piano','Roberta','terça-feira'],\n",
        "                   ['Joana','bateria','José','quarta-feira'],['Fernanda','guitarra','Rubens','quinta-feira'],\n",
        "                   ['Tamara','sanfona','Roger','terça-feira'],['Tito','contrabaixo','Ronaldo','terça-feira'],\n",
        "                   ['Joseph','bateira','Paulo','quinta-feira'],['Robert','piano','Fernando','terça-feira']]"
      ],
      "execution_count": null,
      "outputs": []
    },
    {
      "cell_type": "code",
      "metadata": {
        "id": "XLkCCV-w-AMz",
        "colab_type": "code",
        "colab": {}
      },
      "source": [
        ""
      ],
      "execution_count": null,
      "outputs": []
    },
    {
      "cell_type": "code",
      "metadata": {
        "id": "EmjPVfl8F62b",
        "colab_type": "code",
        "colab": {}
      },
      "source": [
        ""
      ],
      "execution_count": null,
      "outputs": []
    },
    {
      "cell_type": "code",
      "metadata": {
        "id": "eGzC1gzs7a0a",
        "colab_type": "code",
        "colab": {}
      },
      "source": [
        ""
      ],
      "execution_count": null,
      "outputs": []
    },
    {
      "cell_type": "code",
      "metadata": {
        "id": "b6TXw2qdGBOJ",
        "colab_type": "code",
        "colab": {}
      },
      "source": [
        ""
      ],
      "execution_count": null,
      "outputs": []
    },
    {
      "cell_type": "code",
      "metadata": {
        "id": "Qx4LajBwGUeU",
        "colab_type": "code",
        "colab": {}
      },
      "source": [
        ""
      ],
      "execution_count": null,
      "outputs": []
    }
  ]
}